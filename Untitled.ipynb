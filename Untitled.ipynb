{
 "cells": [
  {
   "cell_type": "code",
   "execution_count": 6,
   "metadata": {},
   "outputs": [],
   "source": [
    "import tensorflow as tf\n",
    "from biomedicus.sentences.data import train_validation\n",
    "from biomedicus.sentences.vocabulary import load_char_mapping\n",
    "from biomedicus.utilities.embeddings import load_vectors"
   ]
  },
  {
   "cell_type": "code",
   "execution_count": 7,
   "metadata": {},
   "outputs": [],
   "source": [
    "words, vectors = load_vectors('/Users/ben/Corpora/sentences-2019-11-18/mimic100.vec')\n",
    "chars_mapping = load_char_mapping('/Users/ben/Corpora/sentences-2019-11-18/characters.txt')\n",
    "train, validation, weights = train_validation(\n",
    "    '/Users/ben/Corpora/sentences-2019-11-18/train.tfrecord',\n",
    "    '/Users/ben/Corpora/sentences-2019-11-18/validation.tfrecord',\n",
    "    chars_mapping, \n",
    "    words\n",
    ")\n",
    "\n"
   ]
  },
  {
   "cell_type": "code",
   "execution_count": 9,
   "metadata": {},
   "outputs": [],
   "source": [
    "dataset = tf.data.TFRecordDataset('/Users/ben/Corpora/sentences-2019-11-18/validation.tfrecord')\n",
    "features = {\n",
    "        'priors': tf.io.VarLenFeature(tf.string),\n",
    "        'tokens': tf.io.VarLenFeature(tf.string),\n",
    "        'posts': tf.io.VarLenFeature(tf.string),\n",
    "        'labels': tf.io.VarLenFeature(tf.int64)\n",
    "    }\n",
    "def _parse_function(serialized):\n",
    "    parsed_example = tf.io.parse_single_example(serialized, features)\n",
    "    return (parsed_example['priors'], parsed_example['tokens'], parsed_example['posts'],\n",
    "            (parsed_example['labels']))\n",
    "parsed_dataset = dataset.map(_parse_function).batch(1)"
   ]
  },
  {
   "cell_type": "code",
   "execution_count": 12,
   "metadata": {},
   "outputs": [
    {
     "name": "stdout",
     "output_type": "stream",
     "text": [
      "\n",
      "<tf.RaggedTensor [[b'CVICU']]>\n",
      "<tf.RaggedTensor [[b'\\n   ']]>\n",
      "<tf.RaggedTensor [[1]]>\n",
      "\n",
      "<tf.RaggedTensor [[b'Current', b'medications', b'Calcium', b'Gluconate', b'Chlorhexidine', b'Gluconate', b'0', b'12', b'Oral', b'Rinse', b'Famotidine', b'Fentanyl', b'Citrate', b'HYDROmorphone', b'Dilaudid', b'Heparin', b'Influenza', b'Virus', b'Vaccine', b'Insulin', b'Magnesium', b'Sulfate', b'Metoprolol', b'Tartrate', b'Phenylephrine', b'Pneumococcal', b'Vac', b'Polyvalent', b'Propofo', b'24', b'Hour', b'Events']]>\n",
      "<tf.RaggedTensor [[b' ', b':\\n   ', b' ', b' . ', b' ', b' ', b'.', b'% ', b' ', b' .\\n   ', b' . ', b' ', b' . ', b' (', b') . ', b' .\\n   ', b' ', b' ', b' . ', b' . ', b' ', b' . ', b'\\n   ', b' . ', b' . ', b' ', b' ', b' . ', b'\\n   ', b' ', b' ', b':\\n ']]>\n",
      "<tf.RaggedTensor [[1, 0, 1, 0, 1, 0, 0, 0, 0, 0, 1, 1, 0, 1, 0, 1, 1, 0, 0, 1, 1, 0, 1, 0, 1, 1, 0, 0, 1, 1, 0, 0]]>\n",
      "\n",
      "<tf.RaggedTensor [[b'Allergies', b'Last', b'dose', b'of', b'Antibiotics', b'Infusions', b'Heparin', b'Sodium', b'1', b'000', b'units', b'hour', b'Phenylephrine', b'0', b'4', b'mcg', b'Kg', b'min', b'Propofol', b'25', b'mcg', b'Kg', b'min', b'Other', b'ICU', b'medications', b'Other', b'medications', b'Flowsheet', b'Data', b'as', b'of', b'[**2609-2-5**]', b'08', b'20', b'AM']]>\n",
      "<tf.RaggedTensor [[b':\\n   ', b' ', b' ', b' ', b':\\n   ', b':\\n   ', b' ', b' - ', b',', b' ', b'/', b'\\n   ', b' - ', b'.', b' ', b'/', b'/', b'\\n   ', b' - ', b' ', b'/', b'/', b'\\n   ', b' ', b' ', b':\\n   ', b' ', b':\\n   ', b' ', b' ', b' ', b'  ', b' ', b':', b' ', b'\\n   ']]>\n",
      "<tf.RaggedTensor [[1, 1, 0, 0, 0, 1, 1, 0, 0, 0, 0, 0, 1, 0, 0, 0, 0, 0, 1, 0, 0, 0, 0, 1, 0, 0, 1, 0, 1, 0, 0, 0, 0, 0, 0, 0]]>\n",
      "\n",
      "<tf.RaggedTensor [[b'Physical', b'Examination', b'General', b'Appearance', b'No', b'acute', b'distress', b'HEENT', b'PERRL', b'Cardiovascular', b'Rhythm', b'Regular', b'Distant', b'heart', b'sounds', b'Present', b'Respiratory', b'Chest', b'Expansion', b'Symmetric', b'Breath', b'Sounds', b'CTA', b'bilateral', b'Abdominal', b'Soft', b'Non', b'distended', b'Non', b'tender', b'Bowel', b'sounds', b'present', b'Obese', b'Left', b'Extremities', b'Edema', b'3', b'Temperature', b'Warm', b'Pulse', b'Dorsalis', b'pedis', b'Present', b'Right', b'Extremities', b'Edema', b'3', b'Temperature', b'Warm', b'Pulse', b'Dorsalis', b'pedis', b'Present', b'Neurologic', b'Responds', b'to', b'Tactile', b'stimuli', b'Moves', b'all', b'extremities', b'Sedated']]>\n",
      "<tf.RaggedTensor [[b' ', b'\\n   ', b' ', b': ', b' ', b' ', b'\\n   ', b': ', b'\\n   ', b': (', b': ', b'), (', b' ', b' ', b': ', b')\\n   ', b' / ', b': (', b': ', b'), (', b' ', b': ', b'\\n   ', b' : )\\n   ', b': ', b', ', b'-', b', ', b'-', b', ', b' ', b' ', b', ', b'\\n   ', b' ', b': (', b': ', b'+), (', b': ', b'), (', b' - ', b'\\n   ', b': ', b')\\n   ', b' ', b': (', b': ', b'+), (', b': ', b'), (', b' - ', b'\\n   ', b': ', b')\\n   ', b': (', b' ', b': ', b' ', b'), ', b' ', b' ', b',\\n   ', b'\\n   ']]>\n",
      "<tf.RaggedTensor [[1, 0, 1, 0, 0, 0, 0, 1, 0, 1, 0, 0, 0, 0, 0, 0, 0, 0, 0, 0, 0, 0, 0, 0, 1, 0, 0, 0, 0, 0, 0, 0, 0, 0, 1, 0, 0, 0, 0, 0, 0, 0, 0, 0, 1, 0, 0, 0, 0, 0, 0, 0, 0, 0, 1, 0, 0, 0, 0, 0, 0, 0, 0]]>\n",
      "\n",
      "<tf.RaggedTensor [[b'WBC', b'23', b'6', b'21', b'6', b'Hct', b'25', b'8', b'29', b'5', b'Plt', b'212', b'158', b'Creatinine', b'0', b'6', b'TCO2', b'22', b'19', b'Glucose', b'183', b'182']]>\n",
      "<tf.RaggedTensor [[b'\\n   ', b'.', b'\\n   ', b'.', b'\\n   ', b'\\n   ', b'.', b'\\n   ', b'.', b'\\n   ', b'\\n   ', b'\\n   ', b'\\n   ', b'\\n   ', b'.', b'\\n   ', b'\\n   ', b'\\n   ', b'\\n   ', b'\\n   ', b'\\n   ', b'\\n   ']]>\n",
      "<tf.RaggedTensor [[1, 0, 0, 0, 0, 1, 0, 0, 0, 0, 1, 0, 0, 1, 0, 0, 1, 0, 0, 1, 0, 0]]>\n",
      "\n",
      "<tf.RaggedTensor [[b'Assessment', b'and', b'Plan', b'ALTERATION', b'IN', b'TISSUE', b'PERFUSION', b'HYPOTENSION', b'NOT', b'SHOCK', b'Assessment', b'and', b'Plan', b'[**2-5**]', b'pod', b'0', b's', b'p', b'Thrombectomy', b'of', b'R', b'limb', b'of', b'aortobifem', b'pseudoaneurysm', b'resection', b'with', b'interposition', b'graft', b'remains', b'intubated', b'requiring', b'multiple', b'units', b'of', b'PRBCs', b'and', b'pressors', b'for', b'HD', b'stability', b'Neurologic', b'Neuro', b'checks', b'Q', b'4', b'hr', b'Keep', b'sedated', b'with', b'Versed', b'Fentanyl', b'for', b'pain', b'wean', b'off', b'Propofol', b'Cardiovascular']]>\n",
      "<tf.RaggedTensor [[b' ', b' ', b'\\n   ', b' ', b' ', b' ', b', ', b' (', b' ', b')\\n   ', b' ', b' ', b': ', b', ', b'#', b'\\n   ', b'/', b' ', b' ', b' ', b' ', b' ', b' ', b', ', b' ', b' ', b'\\n   ', b' ', b', ', b' ', b', ', b' ', b' ', b' ', b'\\n   ', b' ', b' ', b' ', b' ', b' ', b'.\\n   ', b': ', b' ', b' ', b': ', b' ', b', ', b' ', b' ', b' ', b'/', b' ', b'\\n   ', b'-', b' ', b' ', b'\\n   ', b': ']]>\n",
      "<tf.RaggedTensor [[1, 0, 0, 1, 0, 0, 0, 0, 0, 0, 1, 0, 0, 1, 0, 0, 0, 0, 0, 0, 0, 0, 0, 0, 0, 0, 0, 0, 0, 0, 0, 0, 0, 0, 0, 0, 0, 0, 0, 0, 0, 1, 1, 0, 0, 0, 0, 0, 0, 0, 0, 0, 0, 0, 0, 0, 0, 1]]>\n",
      "\n",
      "<tf.RaggedTensor [[b'anticoagulation', b'Not', b'restarting', b'ASA', b'at', b'this', b'time', b'per', b'vasc', b'Hols', b'B', b'Blocker', b'while', b'requiring', b'pressors', b'Heparin', b'GTT', b'for', b'PTT', b'goal', b'60', b'80', b'Follow', b'Serial', b'CEs', b'CPKs', b'Pulmonary', b'Cont', b'ETT', b'Ventilator', b'mode', b'CMV', b'Possible', b'vent', b'wean', b'today', b'to', b'exercise', b'resp', b'muscles', b'No', b'plans', b'to', b'extubate', b'while', b'fluid', b'resuscitating', b'Gastrointestinal', b'Abdomen', b'Cont', b'NGT', b'for', b'decompression', b'NPO', b'prophylaxis', b'Nutrition', b'NPO', b'Renal', b'Foley', b'Inadequate', b'uo', b'Vasc', b'team', b'aware', b'cont', b'fluid', b'resuscitation', b'for', b'renal', b'response', b'Will', b'follow', b'uo', b'BUN', b'Cr', b'Hematology', b'Serial', b'Hct', b'Tx', b'additional', b'PRBCs', b'to', b'maintain', b'HCT', b'30', b'and', b'remain', b'steady', b'w', b'Neo', b'Will', b'recheck', b'response', b'to', b'infusion', b'Endocrine', b'RISS', b'Infectious', b'Disease', b'Lines', b'Tubes', b'Drains', b'Foley', b'OGT', b'ETT']]>\n",
      "<tf.RaggedTensor [[b', ', b' ', b' ', b' ', b' ', b' ', b'\\n   ', b' ', b'.', b' ', b'-', b' ', b' ', b' ', b'.', b' ', b' ', b' ', b'\\n   ', b' ', b'-', b'. ', b'  ', b' ', b'/', b'\\n   ', b': ', b' ', b', (', b' ', b': ', b'), ', b' ', b' ', b' ', b'\\n   ', b' ', b' ', b'. ', b'. ', b' ', b' ', b' ', b' ', b' ', b'\\n   ', b'.\\n   ', b' / ', b': ', b'.', b' ', b' ', b'. ', b',\\n   ', b'\\n   ', b': ', b'\\n   ', b': ', b', ', b' ', b'. ', b' ', b' ', b'. ->', b'.', b'\\n   ', b' ', b' ', b' ', b'. ', b' ', b' ', b'/', b'/', b'\\n   ', b': ', b' ', b', ', b' ', b' ', b' ', b' ', b' ', b'>', b', ', b'\\n   ', b' ', b' ', b'/', b'. ', b' ', b' ', b' ', b' ', b'.\\n   ', b': ', b'\\n   ', b' ', b':\\n   ', b' / ', b' / ', b': ', b', ', b', ', b'\\n   ']]>\n",
      "<tf.RaggedTensor [[1, 0, 0, 0, 0, 0, 0, 0, 0, 1, 0, 0, 0, 0, 0, 1, 0, 0, 0, 0, 0, 0, 1, 0, 0, 0, 1, 1, 0, 0, 0, 0, 0, 0, 0, 0, 0, 0, 0, 0, 1, 0, 0, 0, 0, 0, 0, 1, 0, 1, 0, 0, 0, 1, 0, 1, 1, 1, 1, 0, 0, 1, 0, 0, 1, 0, 0, 0, 0, 0, 1, 0, 0, 0, 0, 1, 1, 0, 0, 0, 0, 0, 0, 0, 0, 0, 0, 0, 0, 0, 1, 0, 0, 0, 0, 1, 1, 1, 0, 1, 0, 0, 1, 0, 0]]>\n",
      "\n",
      "<tf.RaggedTensor [[b'Lines', b'Arterial', b'Line', b'[**2609-2-5**]', b'05', b'34', b'AM', b'Multi', b'Lumen', b'[**2609-2-5**]', b'05', b'35', b'AM', b'16', b'Gauge', b'[**2609-2-5**]', b'05', b'49', b'AM', b'20', b'Gauge', b'[**2609-2-5**]', b'05', b'50', b'AM', b'Prophylaxis', b'DVT', b'Systemic', b'anticoagulation', b'Heparin', b'drip', b'Stress', b'ulcer', b'H2', b'blocker', b'VAP', b'bundle', b'HOB', b'elevation', b'Mouth', b'care', b'Daily', b'wake', b'up', b'RSBI', b'Comments', b'Communication', b'Patient', b'discussed', b'on', b'interdisciplinary', b'rounds', b'Comments', b'Code', b'status', b'Full', b'code', b'Disposition', b'ICU']]>\n",
      "<tf.RaggedTensor [[b':\\n   ', b' ', b' - ', b' ', b':', b' ', b'\\n   ', b' ', b' - ', b' ', b':', b' ', b'\\n   ', b' ', b' - ', b' ', b':', b' ', b'\\n   ', b' ', b' - ', b' ', b':', b' ', b'\\n   ', b':\\n   ', b':  (', b' ', b': ', b' ', b')\\n   ', b' ', b': ', b' ', b'\\n   ', b' ', b': ', b' ', b', ', b' ', b', ', b' ', b' ', b', ', b'\\n   ', b':\\n   ', b': ', b' ', b' ', b' ', b' ', b'  ', b':\\n   ', b' ', b': ', b' ', b'\\n   ', b': ', b'\\n   ------ ']]>\n",
      "<tf.RaggedTensor [[1, 1, 0, 0, 0, 0, 0, 1, 0, 0, 0, 0, 0, 1, 0, 0, 0, 0, 0, 1, 0, 0, 0, 0, 0, 1, 1, 0, 0, 0, 0, 1, 0, 0, 0, 1, 0, 0, 0, 0, 0, 0, 0, 0, 0, 1, 1, 0, 0, 0, 0, 0, 1, 1, 0, 0, 0, 1, 0]]>\n",
      "\n",
      "<tf.RaggedTensor [[b'NURSING', b'PROGRESS', b'NOTE', b'NEURO', b'REMAINS', b'ON', b'ATIVAN', b'GTT', b'2MG', b'HR', b'OPENS', b'EYES', b'TO', b'LOUD', b'SPEECH', b'DID', b'SQUEEZE', b'HANDS', b'TO', b'COMMAND', b'EASILY', b'FALLS', b'BACK', b'ASLEEP', b'APPEARS', b'CALM', b'WELL', b'SEDATED', b'C', b'V', b'REMAINS', b'ON', b'DOPA', b'GTT', b'FOR', b'SBP', b'90', b'WEANING', b'GTT', b'SUCCESSFULLY', b'DOWN', b'TO', b'9', b'5MCG', b'AT', b'THIS', b'TIME', b'AMIODARONE', b'TT', b'REMAINS', b'AT', b'5MG', b'MIN', b'ECG', b'SHOWING', b'NSR', b'HR', b'60', b'S', b'THIS', b'AFTERNOON', b'THIS', b'EVENING', b'HAS', b'HAD', b'A', b'FEW', b'SPURTS', b'OF', b'A', b'FIB', b'WITH', b'HR', b'UP', b'TO', b'100', b'THEN', b'WITHIN', b'A', b'FEW', b'SECONDS', b'RETURNS', b'BACK', b'TO', b'BASELINE', b'DR', b'[**Last Name (STitle) **]', b'MADE', b'AWARE', b'OF', b'IRREGULAR', b'HR', b'PA', b'CATH', b'INCACT', b'LAST', b'WEDGE', b'22', b'AT', b'1500', b'WILL', b'RECHECK', b'WEDGE', b'RECEIVED', b'40MG', b'LASIX', b'THIS', b'EVENING', b'UO', b'PICKED', b'UP', b'TO', b'100', b'150CC', b'HR', b'RESP', b'REMAINS', b'ON', b'SIMV', b'RATE', b'8', b'PEEP', b'7', b'5', b'PS', b'5', b'TV', b'600', b'FIO2', b'DOWN', b'TO', b'70', b'AT', b'1700', b'TOLERATING', b'WELL', b'O2', b'SAT', b'95', b'SEE', b'CCC', b'FOR', b'ABG', b'RESULTS', b'CONTINUES', b'TO', b'HAVE', b'SOME', b'INSP', b'WHEEZES', b'AND', b'DIMISHED', b'BREATH', b'SOUNDS', b'SUCTIONED', b'1X', b'FOR', b'THIN', b'AMBER', b'COLORED', b'SPUTUM', b'GI', b'NGT', b'TO', b'WALL', b'SUCTION', b'WITH', b'BILIOUS', b'OUTPUT', b'GU', b'AS', b'STATED', b'ABOVE', b'RECEIVED', b'40', b'MG', b'LASIX', b'THIS', b'EVENING', b'WITH', b'ADEQUATE', b'DIURESIS', b'PLAN', b'WEAN', b'DOPA', b'GTT', b'AND', b'FIO2', b'AS', b'TOLERATED', b'REMAINS', b'FULL', b'CODE']]>\n",
      "<tf.RaggedTensor [[b' ', b' ', b':\\n\\n', b':  ', b' ', b' ', b' ', b' @', b'/', b'.  ', b' ', b' ', b' ', b' ', b',  ', b' ', b' ', b' ', b' ', b', ', b' ', b' ', b' ', b'. ', b' ', b', ', b' ', b'.\\n\\n', b'/', b':  ', b' ', b' ', b' ', b' ', b' ', b'>', b'. ', b' ', b' ', b', ', b' ', b' @', b'.', b' ', b' ', b' ', b'.  ', b' ', b' ', b' ', b' .', b'/', b'.  ', b' ', b' ', b', ', b' @', b\"'\", b' ', b' ', b'.  ', b' ', b' ', b' ', b' ', b' ', b' ', b' ', b' ', b'.', b' ', b' ', b' ', b' ', b' @', b', ', b' ', b' ', b' ', b' ', b' ', b' ', b' ', b' ', b'.  ', b'.', b' ', b' ', b' ', b' ', b' ', b'.  ', b' ', b' ', b'.  ', b' ', b' ', b' ', b' ', b', ', b' ', b' ', b'.  ', b' ', b' ', b' ', b' ', b'.  ', b' ', b' ', b' ', b' @', b'-', b'/', b'.\\n\\n', b':  ', b' ', b' ', b' ', b' ', b', ', b' ', b'.', b', ', b' ', b', ', b' ', b', ', b' ', b' ', b' ', b'% ', b' @', b', ', b' ', b'.  ', b' ', b' >', b'%..  ', b' ', b' ', b' ', b' ', b'.  ', b' ', b' ', b' ', b' ', b' ', b' ', b' ', b' ', b' ', b'.  ', b' ', b' ', b' ', b' ', b' ', b' ', b'.\\n\\n', b':  ', b' ', b' ', b' ', b' ', b' ', b' ', b'.\\n\\n', b':  ', b' ', b' ', b', ', b' ', b' ', b' ', b' ', b' ', b'  ', b' ', b' ', b'.\\n\\n', b':  ', b' ', b' ', b' ', b' ', b' ', b' ', b'.  ', b' ', b' ', b'.\\n\\n\\n']]>\n",
      "<tf.RaggedTensor [[1, 0, 0, 1, 1, 0, 0, 0, 0, 0, 1, 0, 0, 0, 0, 0, 0, 0, 0, 0, 0, 0, 0, 0, 1, 0, 0, 0, 1, 0, 1, 0, 0, 0, 0, 0, 0, 1, 0, 0, 0, 0, 0, 0, 0, 0, 0, 1, 0, 0, 0, 0, 0, 1, 0, 0, 0, 0, 0, 0, 0, 1, 0, 0, 0, 0, 0, 0, 0, 0, 0, 0, 0, 0, 0, 0, 0, 0, 0, 0, 0, 0, 0, 0, 0, 1, 0, 0, 0, 0, 0, 0, 1, 0, 0, 1, 0, 0, 0, 0, 0, 0, 0, 1, 0, 0, 0, 0, 1, 0, 0, 0, 0, 0, 0, 1, 1, 0, 0, 0, 0, 0, 0, 0, 0, 0, 0, 0, 0, 0, 0, 0, 0, 0, 0, 0, 1, 0, 0, 1, 0, 0, 0, 0, 1, 0, 0, 0, 0, 0, 0, 0, 0, 0, 1, 0, 0, 0, 0, 0, 0, 1, 1, 0, 0, 0, 0, 0, 0, 1, 1, 0, 0, 0, 0, 0, 0, 0, 0, 0, 0, 0, 1, 1, 0, 0, 0, 0, 0, 0, 1, 0, 0]]>\n",
      "\n",
      "<tf.RaggedTensor [[b'Resp', b'Care', b'Pt', b'remains', b'trached', b'and', b'currently', b'on', b'50', b'trach', b'collar', b'tol', b'well', b'with', b'spo2', b'in', b'the', b'upper', b'90s', b'and', b'RR', b'in', b'the', b'mid', b'to', b'low', b'20s', b'BS', b'slightly', b'course', b'at', b'times', b'expectorating', b'small', b'amts', b'of', b'thick', b'yellow', b'secretions', b'on', b'own', b'Inner', b'cannula', b'clean', b'patent', b'Aerosal', b'bottle', b'full', b'tubing', b'drained', b'Will', b'cont', b'to', b'monitor', b'for', b'signs', b'symptoms', b'of', b'fatigue']]>\n",
      "<tf.RaggedTensor [[b' ', b'\\n\\n', b' ', b' ', b' ', b' ', b' ', b' ', b'% ', b' ', b' ', b' ', b' ', b' ', b' ', b' ', b' ', b' ', b' ', b' ', b' ', b' ', b' ', b' ', b' ', b' ', b'. ', b' ', b' ', b' ', b' ', b' ', b' ', b' ', b' ', b' ', b' ', b' ', b' ', b' ', b'. ', b' ', b' ', b'/', b'. ', b' ', b' ', b'/', b' ', b'. ', b' ', b' ', b' ', b' ', b' ', b'/', b' ', b' ', b'.\\n']]>\n",
      "<tf.RaggedTensor [[1, 0, 1, 0, 0, 0, 0, 0, 0, 0, 0, 0, 0, 0, 0, 0, 0, 0, 0, 0, 0, 0, 0, 0, 0, 0, 0, 1, 0, 0, 0, 0, 0, 0, 0, 0, 0, 0, 0, 0, 0, 1, 0, 0, 0, 1, 0, 0, 0, 0, 1, 0, 0, 0, 0, 0, 0, 0, 0]]>\n"
     ]
    }
   ],
   "source": [
    "for priors, tokens, posts, labels in parsed_dataset.take(10):\n",
    "    print()\n",
    "    print(tf.RaggedTensor.from_sparse(tokens))\n",
    "    print(tf.RaggedTensor.from_sparse(posts))\n",
    "    print(tf.RaggedTensor.from_sparse(labels))"
   ]
  },
  {
   "cell_type": "code",
   "execution_count": 13,
   "metadata": {},
   "outputs": [
    {
     "data": {
      "text/plain": [
       "True"
      ]
     },
     "execution_count": 13,
     "metadata": {},
     "output_type": "execute_result"
    }
   ],
   "source": [
    "0 == 0.0"
   ]
  },
  {
   "cell_type": "code",
   "execution_count": 14,
   "metadata": {},
   "outputs": [
    {
     "data": {
      "text/plain": [
       "True"
      ]
     },
     "execution_count": 14,
     "metadata": {},
     "output_type": "execute_result"
    }
   ],
   "source": [
    "0.0 == 0"
   ]
  },
  {
   "cell_type": "code",
   "execution_count": 34,
   "metadata": {},
   "outputs": [],
   "source": [
    "labels = tf.constant([[0, 0, 1, 1]])\n",
    "predictions = tf.constant([[0.05, 0.9934, 0.06, 0.995]])"
   ]
  },
  {
   "cell_type": "code",
   "execution_count": 35,
   "metadata": {},
   "outputs": [
    {
     "name": "stdout",
     "output_type": "stream",
     "text": [
      "2 1 1\n"
     ]
    }
   ],
   "source": [
    "true_positives = 0\n",
    "false_positives = 0\n",
    "false_negatives = 0\n",
    "for prediction, label in zip(tf.cast(tf.math.rint(predictions[0]), labels.dtype), labels[0]):\n",
    "    if prediction == label:\n",
    "        true_positives += 1\n",
    "    elif label == tf.cast(0, labels.dtype):\n",
    "        false_positives += 1\n",
    "    elif label == 1:\n",
    "        false_negatives += 1\n",
    "print(true_positives, false_positives, false_negatives)"
   ]
  },
  {
   "cell_type": "code",
   "execution_count": null,
   "metadata": {},
   "outputs": [],
   "source": []
  }
 ],
 "metadata": {
  "kernelspec": {
   "display_name": "Python 3",
   "language": "python",
   "name": "python3"
  },
  "language_info": {
   "codemirror_mode": {
    "name": "ipython",
    "version": 3
   },
   "file_extension": ".py",
   "mimetype": "text/x-python",
   "name": "python",
   "nbconvert_exporter": "python",
   "pygments_lexer": "ipython3",
   "version": "3.5.7"
  }
 },
 "nbformat": 4,
 "nbformat_minor": 2
}
